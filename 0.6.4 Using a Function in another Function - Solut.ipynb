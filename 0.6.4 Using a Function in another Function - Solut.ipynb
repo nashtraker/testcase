{
    "cells": [
        {
            "metadata": {},
            "cell_type": "markdown",
            "source": "## Using a Function in Another Function"
        },
        {
            "metadata": {},
            "cell_type": "markdown",
            "source": "*Suggested Answers follow (usually there are multiple ways to solve a problem in Python).*"
        },
        {
            "metadata": {},
            "cell_type": "markdown",
            "source": "Define a function that adds 5 to the parameter. Then, define another function that will multiply the newly obtained number by 3.\nVerify your code was correct by calling the second function with an argument of 5. \nWas your output equal to 30?"
        },
        {
            "metadata": {},
            "cell_type": "code",
            "source": "def plus_five(x):\n    return x + 5\n\ndef m_by_3(x):\n    return plus_five(x) * 3",
            "execution_count": 1,
            "outputs": []
        },
        {
            "metadata": {},
            "cell_type": "code",
            "source": "m_by_3(5)",
            "execution_count": 2,
            "outputs": [
                {
                    "output_type": "execute_result",
                    "execution_count": 2,
                    "data": {
                        "text/plain": "30"
                    },
                    "metadata": {}
                }
            ]
        },
        {
            "metadata": {},
            "cell_type": "code",
            "source": "",
            "execution_count": null,
            "outputs": []
        }
    ],
    "metadata": {
        "anaconda-cloud": {},
        "kernelspec": {
            "name": "python3",
            "display_name": "Python 3.6",
            "language": "python"
        },
        "language_info": {
            "name": "python",
            "version": "3.6.9",
            "mimetype": "text/x-python",
            "codemirror_mode": {
                "name": "ipython",
                "version": 3
            },
            "pygments_lexer": "ipython3",
            "nbconvert_exporter": "python",
            "file_extension": ".py"
        }
    },
    "nbformat": 4,
    "nbformat_minor": 1
}